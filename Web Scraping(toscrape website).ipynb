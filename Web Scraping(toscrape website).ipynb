{
 "cells": [
  {
   "cell_type": "markdown",
   "id": "676c94ff",
   "metadata": {},
   "source": [
    "# Web Scraping with Beautiful Soup\n",
    "Scraping [Books to Scrape](https://books.toscrape.com/) at toscrape.com"
   ]
  },
  {
   "cell_type": "markdown",
   "id": "991da0e3",
   "metadata": {},
   "source": [
    "**Objective**- toscrape.com have 1000 books in 50 web pages. My objective is to scrape all the 50 pages and save the data as 'csv' file."
   ]
  },
  {
   "cell_type": "markdown",
   "id": "aae4528f",
   "metadata": {},
   "source": [
    "**List of Contents:**\n",
    "1. Importing the Libraries\n",
    "2. Scraping first page\n",
    "3. Scraping all the 50 pages\n",
    "4. Creating the 'csv' file\n",
    "5. Result     "
   ]
  },
  {
   "cell_type": "markdown",
   "id": "6f772cb4",
   "metadata": {},
   "source": [
    "**Result-** [Books_to_Scrape.csv](https://github.com/abjta1029/sample_data_files/blob/main/Books_to_Scrape.csv) The final 'csv' file."
   ]
  },
  {
   "cell_type": "markdown",
   "id": "2a47719e",
   "metadata": {},
   "source": [
    "#### 1. Importing the Libraries:"
   ]
  },
  {
   "cell_type": "code",
   "execution_count": 1,
   "id": "c9b6b8ea",
   "metadata": {},
   "outputs": [],
   "source": [
    "import requests"
   ]
  },
  {
   "cell_type": "code",
   "execution_count": 2,
   "id": "80f1a9de",
   "metadata": {},
   "outputs": [],
   "source": [
    "import bs4\n",
    "from bs4 import BeautifulSoup"
   ]
  },
  {
   "cell_type": "code",
   "execution_count": 3,
   "id": "4da7f3e5",
   "metadata": {},
   "outputs": [],
   "source": [
    "import csv"
   ]
  },
  {
   "cell_type": "markdown",
   "id": "16f35282",
   "metadata": {},
   "source": [
    "#### 2. Scraping first page:\n",
    "Scraping first page as a example to get the results that further apply on rest of the pages."
   ]
  },
  {
   "cell_type": "code",
   "execution_count": 4,
   "id": "e8b60d00",
   "metadata": {},
   "outputs": [],
   "source": [
    "res_example=requests.get('https://books.toscrape.com/catalogue/page-1.html')# Used requests to grab the page"
   ]
  },
  {
   "cell_type": "code",
   "execution_count": 5,
   "id": "c4c80704",
   "metadata": {},
   "outputs": [],
   "source": [
    "soup_example=bs4.BeautifulSoup(res_example.text,'html.parser')"
   ]
  },
  {
   "cell_type": "code",
   "execution_count": 6,
   "id": "4f0f1974",
   "metadata": {},
   "outputs": [],
   "source": [
    "product_example=soup_example(class_='product_pod')"
   ]
  },
  {
   "cell_type": "code",
   "execution_count": 7,
   "id": "1bba233f",
   "metadata": {},
   "outputs": [
    {
     "data": {
      "text/plain": [
       "<article class=\"product_pod\">\n",
       "<div class=\"image_container\">\n",
       "<a href=\"a-light-in-the-attic_1000/index.html\"><img alt=\"A Light in the Attic\" class=\"thumbnail\" src=\"../media/cache/2c/da/2cdad67c44b002e7ead0cc35693c0e8b.jpg\"/></a>\n",
       "</div>\n",
       "<p class=\"star-rating Three\">\n",
       "<i class=\"icon-star\"></i>\n",
       "<i class=\"icon-star\"></i>\n",
       "<i class=\"icon-star\"></i>\n",
       "<i class=\"icon-star\"></i>\n",
       "<i class=\"icon-star\"></i>\n",
       "</p>\n",
       "<h3><a href=\"a-light-in-the-attic_1000/index.html\" title=\"A Light in the Attic\">A Light in the ...</a></h3>\n",
       "<div class=\"product_price\">\n",
       "<p class=\"price_color\">Â£51.77</p>\n",
       "<p class=\"instock availability\">\n",
       "<i class=\"icon-ok\"></i>\n",
       "    \n",
       "        In stock\n",
       "    \n",
       "</p>\n",
       "<form>\n",
       "<button class=\"btn btn-primary btn-block\" data-loading-text=\"Adding...\" type=\"submit\">Add to basket</button>\n",
       "</form>\n",
       "</div>\n",
       "</article>"
      ]
     },
     "execution_count": 7,
     "metadata": {},
     "output_type": "execute_result"
    }
   ],
   "source": [
    "product_example[0]"
   ]
  },
  {
   "cell_type": "markdown",
   "id": "3e60e46e",
   "metadata": {},
   "source": [
    "**Under product_pod class 'Book Title' and 'Book rating' is mentioned**"
   ]
  },
  {
   "cell_type": "code",
   "execution_count": 8,
   "id": "edcbac57",
   "metadata": {},
   "outputs": [
    {
     "data": {
      "text/plain": [
       "'A Light in the Attic'"
      ]
     },
     "execution_count": 8,
     "metadata": {},
     "output_type": "execute_result"
    }
   ],
   "source": [
    "product_example[0].h3.a.attrs['title'] # title of the book"
   ]
  },
  {
   "cell_type": "code",
   "execution_count": 9,
   "id": "b41dd911",
   "metadata": {},
   "outputs": [
    {
     "data": {
      "text/plain": [
       "'Three'"
      ]
     },
     "execution_count": 9,
     "metadata": {},
     "output_type": "execute_result"
    }
   ],
   "source": [
    "product_example[0].find('p').get('class')[1] # rating of the book"
   ]
  },
  {
   "cell_type": "markdown",
   "id": "8cfe37d6",
   "metadata": {},
   "source": [
    "**Under product_price class 'Book Price' and 'Book instock availability' is mentioned**"
   ]
  },
  {
   "cell_type": "code",
   "execution_count": 10,
   "id": "9fb5f7f6",
   "metadata": {},
   "outputs": [],
   "source": [
    "price_example=soup_example(class_='product_price')"
   ]
  },
  {
   "cell_type": "code",
   "execution_count": 11,
   "id": "25af2088",
   "metadata": {},
   "outputs": [
    {
     "data": {
      "text/plain": [
       "<div class=\"product_price\">\n",
       "<p class=\"price_color\">Â£51.77</p>\n",
       "<p class=\"instock availability\">\n",
       "<i class=\"icon-ok\"></i>\n",
       "    \n",
       "        In stock\n",
       "    \n",
       "</p>\n",
       "<form>\n",
       "<button class=\"btn btn-primary btn-block\" data-loading-text=\"Adding...\" type=\"submit\">Add to basket</button>\n",
       "</form>\n",
       "</div>"
      ]
     },
     "execution_count": 11,
     "metadata": {},
     "output_type": "execute_result"
    }
   ],
   "source": [
    "price_example[0]"
   ]
  },
  {
   "cell_type": "code",
   "execution_count": 12,
   "id": "49a4cbc6",
   "metadata": {},
   "outputs": [
    {
     "data": {
      "text/plain": [
       "'£51.77'"
      ]
     },
     "execution_count": 12,
     "metadata": {},
     "output_type": "execute_result"
    }
   ],
   "source": [
    "price_example[0].find(class_='price_color').text.strip('Â') #price of the book"
   ]
  },
  {
   "cell_type": "code",
   "execution_count": 13,
   "id": "6bbbf582",
   "metadata": {},
   "outputs": [
    {
     "data": {
      "text/plain": [
       "'In stock'"
      ]
     },
     "execution_count": 13,
     "metadata": {},
     "output_type": "execute_result"
    }
   ],
   "source": [
    "price_example[0].find(class_='instock availability').get_text(strip=True) # instock availability of the book"
   ]
  },
  {
   "cell_type": "markdown",
   "id": "c267f9ec",
   "metadata": {},
   "source": [
    "#### 3. Now Scraping all the 50 pages together:"
   ]
  },
  {
   "cell_type": "code",
   "execution_count": 14,
   "id": "67723c49",
   "metadata": {},
   "outputs": [],
   "source": [
    "url='https://books.toscrape.com/catalogue/page-{}.html'"
   ]
  },
  {
   "cell_type": "code",
   "execution_count": 15,
   "id": "b79a90c8",
   "metadata": {},
   "outputs": [
    {
     "data": {
      "text/plain": [
       "'https://books.toscrape.com/catalogue/page-5.html'"
      ]
     },
     "execution_count": 15,
     "metadata": {},
     "output_type": "execute_result"
    }
   ],
   "source": [
    "url.format(5) # to fit the page number in url"
   ]
  },
  {
   "cell_type": "code",
   "execution_count": 16,
   "id": "e6f9bd15",
   "metadata": {},
   "outputs": [],
   "source": [
    "my_scrape_file=[]\n",
    "\n",
    "for n in range(1,51):\n",
    "    scrape_url=url.format(n)\n",
    "    res=requests.get(scrape_url) # Used requests to grab the page\n",
    "    \n",
    "    soup=bs4.BeautifulSoup(res.text,'html.parser')\n",
    "    \n",
    "    product=soup(class_='product_pod')\n",
    "    price=soup(class_='product_price')\n",
    "    \n",
    "    for item1,item2 in zip(product,price):\n",
    "        name=item1.h3.a.attrs['title']\n",
    "        price=item2.find(class_='price_color').text.strip('Â')\n",
    "        rating=item1.find('p').get('class')[1]\n",
    "        availability=item2.find(class_='instock availability').get_text(strip=True)\n",
    "       \n",
    "        my_scrape_file.append([name,price,rating,availability])"
   ]
  },
  {
   "cell_type": "code",
   "execution_count": 17,
   "id": "8dc5ed99",
   "metadata": {},
   "outputs": [
    {
     "data": {
      "text/plain": [
       "[['A Light in the Attic', '£51.77', 'Three', 'In stock'],\n",
       " ['Tipping the Velvet', '£53.74', 'One', 'In stock'],\n",
       " ['Soumission', '£50.10', 'One', 'In stock'],\n",
       " ['Sharp Objects', '£47.82', 'Four', 'In stock'],\n",
       " ['Sapiens: A Brief History of Humankind', '£54.23', 'Five', 'In stock']]"
      ]
     },
     "execution_count": 17,
     "metadata": {},
     "output_type": "execute_result"
    }
   ],
   "source": [
    "my_scrape_file[0:5] "
   ]
  },
  {
   "cell_type": "markdown",
   "id": "27fa640b",
   "metadata": {},
   "source": [
    "#### 4. Creating the 'csv' file:"
   ]
  },
  {
   "cell_type": "code",
   "execution_count": 18,
   "id": "69cf5f6a",
   "metadata": {},
   "outputs": [],
   "source": [
    "fields=['Title of the Book','Price','Rating','Instock Availability'] # headers of the columns"
   ]
  },
  {
   "cell_type": "code",
   "execution_count": 19,
   "id": "cda10bf1",
   "metadata": {},
   "outputs": [],
   "source": [
    "filename='Books_to_Scrape.csv' # filename of the csv file"
   ]
  },
  {
   "cell_type": "code",
   "execution_count": 20,
   "id": "17fbc6b0",
   "metadata": {},
   "outputs": [],
   "source": [
    "with open(filename, 'w',encoding='utf-8', newline='') as csvfile: \n",
    "    \n",
    "    csvwriter = csv.writer(csvfile) # creating a csv writer object \n",
    "         \n",
    "    csvwriter.writerow(fields) # writing the header\n",
    "    \n",
    "    csvwriter.writerows(my_scrape_file)#writing the data rows "
   ]
  },
  {
   "cell_type": "markdown",
   "id": "7676c580",
   "metadata": {},
   "source": [
    "#### 5. Result:"
   ]
  },
  {
   "cell_type": "code",
   "execution_count": 21,
   "id": "7b60659e",
   "metadata": {},
   "outputs": [],
   "source": [
    "import pandas as pd"
   ]
  },
  {
   "cell_type": "code",
   "execution_count": 22,
   "id": "6652b71d",
   "metadata": {},
   "outputs": [],
   "source": [
    "Books_to_Scrape=pd.read_csv('Books_to_Scrape.csv')"
   ]
  },
  {
   "cell_type": "code",
   "execution_count": 23,
   "id": "921dd32b",
   "metadata": {},
   "outputs": [
    {
     "name": "stdout",
     "output_type": "stream",
     "text": [
      "<class 'pandas.core.frame.DataFrame'>\n",
      "RangeIndex: 1000 entries, 0 to 999\n",
      "Data columns (total 4 columns):\n",
      " #   Column                Non-Null Count  Dtype \n",
      "---  ------                --------------  ----- \n",
      " 0   Title of the Book     1000 non-null   object\n",
      " 1   Price                 1000 non-null   object\n",
      " 2   Rating                1000 non-null   object\n",
      " 3   Instock Availability  1000 non-null   object\n",
      "dtypes: object(4)\n",
      "memory usage: 31.4+ KB\n"
     ]
    }
   ],
   "source": [
    "Books_to_Scrape.info()"
   ]
  },
  {
   "cell_type": "code",
   "execution_count": 24,
   "id": "bd6f0605",
   "metadata": {},
   "outputs": [
    {
     "data": {
      "text/html": [
       "<div>\n",
       "<style scoped>\n",
       "    .dataframe tbody tr th:only-of-type {\n",
       "        vertical-align: middle;\n",
       "    }\n",
       "\n",
       "    .dataframe tbody tr th {\n",
       "        vertical-align: top;\n",
       "    }\n",
       "\n",
       "    .dataframe thead th {\n",
       "        text-align: right;\n",
       "    }\n",
       "</style>\n",
       "<table border=\"1\" class=\"dataframe\">\n",
       "  <thead>\n",
       "    <tr style=\"text-align: right;\">\n",
       "      <th></th>\n",
       "      <th>Title of the Book</th>\n",
       "      <th>Price</th>\n",
       "      <th>Rating</th>\n",
       "      <th>Instock Availability</th>\n",
       "    </tr>\n",
       "  </thead>\n",
       "  <tbody>\n",
       "    <tr>\n",
       "      <th>0</th>\n",
       "      <td>A Light in the Attic</td>\n",
       "      <td>£51.77</td>\n",
       "      <td>Three</td>\n",
       "      <td>In stock</td>\n",
       "    </tr>\n",
       "    <tr>\n",
       "      <th>1</th>\n",
       "      <td>Tipping the Velvet</td>\n",
       "      <td>£53.74</td>\n",
       "      <td>One</td>\n",
       "      <td>In stock</td>\n",
       "    </tr>\n",
       "    <tr>\n",
       "      <th>2</th>\n",
       "      <td>Soumission</td>\n",
       "      <td>£50.10</td>\n",
       "      <td>One</td>\n",
       "      <td>In stock</td>\n",
       "    </tr>\n",
       "    <tr>\n",
       "      <th>3</th>\n",
       "      <td>Sharp Objects</td>\n",
       "      <td>£47.82</td>\n",
       "      <td>Four</td>\n",
       "      <td>In stock</td>\n",
       "    </tr>\n",
       "    <tr>\n",
       "      <th>4</th>\n",
       "      <td>Sapiens: A Brief History of Humankind</td>\n",
       "      <td>£54.23</td>\n",
       "      <td>Five</td>\n",
       "      <td>In stock</td>\n",
       "    </tr>\n",
       "  </tbody>\n",
       "</table>\n",
       "</div>"
      ],
      "text/plain": [
       "                       Title of the Book   Price Rating Instock Availability\n",
       "0                   A Light in the Attic  £51.77  Three             In stock\n",
       "1                     Tipping the Velvet  £53.74    One             In stock\n",
       "2                             Soumission  £50.10    One             In stock\n",
       "3                          Sharp Objects  £47.82   Four             In stock\n",
       "4  Sapiens: A Brief History of Humankind  £54.23   Five             In stock"
      ]
     },
     "execution_count": 24,
     "metadata": {},
     "output_type": "execute_result"
    }
   ],
   "source": [
    "Books_to_Scrape.head()"
   ]
  },
  {
   "cell_type": "code",
   "execution_count": null,
   "id": "63e372f0",
   "metadata": {},
   "outputs": [],
   "source": []
  }
 ],
 "metadata": {
  "kernelspec": {
   "display_name": "Python 3 (ipykernel)",
   "language": "python",
   "name": "python3"
  },
  "language_info": {
   "codemirror_mode": {
    "name": "ipython",
    "version": 3
   },
   "file_extension": ".py",
   "mimetype": "text/x-python",
   "name": "python",
   "nbconvert_exporter": "python",
   "pygments_lexer": "ipython3",
   "version": "3.9.12"
  }
 },
 "nbformat": 4,
 "nbformat_minor": 5
}
